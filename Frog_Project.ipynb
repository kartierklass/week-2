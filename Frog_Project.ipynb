{
  "nbformat": 4,
  "nbformat_minor": 0,
  "metadata": {
    "colab": {
      "provenance": [],
      "authorship_tag": "ABX9TyNaPrG2SZlDo3GrT4SfC8cy",
      "include_colab_link": true
    },
    "kernelspec": {
      "name": "python3",
      "display_name": "Python 3"
    },
    "language_info": {
      "name": "python"
    }
  },
  "cells": [
    {
      "cell_type": "markdown",
      "metadata": {
        "id": "view-in-github",
        "colab_type": "text"
      },
      "source": [
        "<a href=\"https://colab.research.google.com/github/Vaibhavraj604/Assignment-1-py-/blob/main/Frog_Project.ipynb\" target=\"_parent\"><img src=\"https://colab.research.google.com/assets/colab-badge.svg\" alt=\"Open In Colab\"/></a>"
      ]
    },
    {
      "cell_type": "code",
      "execution_count": null,
      "metadata": {
        "id": "MSTu_K7szEZW"
      },
      "outputs": [],
      "source": [
        "Position = ['Green' , 'Green', 'Green', '-', 'Brown', 'Brown', 'Brown']\n",
        "\n",
        "Print(\"[0, 1, 2, 3, 4, 5, 6 ]\")\n",
        "\n",
        "Print(Position)\n",
        "\n",
        "while True:\n",
        "\n",
        "  Move = input(\"press'q'to quit, enterposition of piece:\")\n",
        "\n",
        "  if move.lower( == 'q'):\n",
        "     print(\"YOU LOOSE\")\n",
        "      break\n",
        "\n",
        "  move = int(move)\n",
        "\n",
        "  if move < 0 or move > 6:\n",
        "    print(\"INVALID MOVE\")\n",
        "    continue\n",
        "\n",
        "  if positions[move] == '-':\n",
        "    print(\"INVALID MOVE\")\n",
        "    continue\n",
        "\n",
        "  empty_index = 0\n",
        "\n",
        "  if positions[move] =='Green':\n",
        "\n",
        "    if move + 1 <= 6 and positions[move + 1] == '-':\n",
        "      empty_index = move + 1\n",
        "    elif move + 2 <= 6 and positions[move + 2] == '-' and positions[move + 1] == 'Brown':\n",
        "      empty_index = move + 2\n",
        "\n",
        "     else:\n",
        "      print(\"INVALID MOVE\")\n",
        "      continue\n",
        "\n",
        " elif positions[move] == 'Brown':\n",
        "\n",
        "     if move - 1 >= 0 and positions[move - 1] == '-':\n",
        "      empty_index = move - 1\n",
        "\n",
        "     elif move - 2 >= 0 and positions[move - 2] == '-' and positions[move - 1] == 'Green':\n",
        "      empty_index = move - 2\n",
        "\n",
        "    else:\n",
        "      print(\"INVALID MOVE\")\n",
        "      continue\n",
        "\n",
        "      positions[move], positions[empty_index] = position[empty_index,], positions[move]\n",
        "      print(\"[0 , 1 , 2 , 3 , 4 , 5 , 6 ]\")\n",
        "      print(positions)\n",
        "\n",
        "      if positions == ['Brown','Brown','Brown','-','Green','Green','Green']:\n",
        "        print(\"you win!\")\n",
        "        break\n",
        "\n",
        "       if positions == ['-''Green','Green','Green','-','Brown','Brown','Brown']:\n",
        "        print(\"you Loose\")\n",
        "        break\n",
        "\n",
        "       if positions == ['Green','Green','Green','-','Brown','Brown','Brown''-']:\n",
        "        print(\"you Loose\")\n",
        "        break"
      ]
    }
  ]
}